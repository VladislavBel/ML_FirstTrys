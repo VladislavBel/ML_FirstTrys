{
 "cells": [
  {
   "cell_type": "code",
   "execution_count": 55,
   "metadata": {},
   "outputs": [],
   "source": [
    "import tensorflow as tf\n",
    "from tensorflow import keras\n",
    "import numpy as np"
   ]
  },
  {
   "cell_type": "code",
   "execution_count": 56,
   "metadata": {},
   "outputs": [],
   "source": [
    "data = keras.datasets.imdb"
   ]
  },
  {
   "cell_type": "code",
   "execution_count": 57,
   "metadata": {},
   "outputs": [],
   "source": [
    "(train_data, train_lables), (test_data, test_lables) = data.load_data(num_words=10000)"
   ]
  },
  {
   "cell_type": "code",
   "execution_count": 58,
   "metadata": {},
   "outputs": [],
   "source": [
    "word_index = data.get_word_index()"
   ]
  },
  {
   "cell_type": "code",
   "execution_count": 59,
   "metadata": {},
   "outputs": [],
   "source": [
    "word_index = {k: (v + 3) for k, v in word_index.items()}\n",
    "word_index[\"<PAD>\"] = 0\n",
    "word_index[\"<START>\"] = 1\n",
    "word_index[\"<UNK>\"] = 2\n",
    "word_index[\"<UNUSED>\"] = 3"
   ]
  },
  {
   "cell_type": "code",
   "execution_count": 60,
   "metadata": {},
   "outputs": [],
   "source": [
    "reverse_word_index = dict([(value, key) for (key, value) in word_index.items()])"
   ]
  },
  {
   "cell_type": "code",
   "execution_count": 61,
   "metadata": {},
   "outputs": [],
   "source": [
    "def decode_review(text):\n",
    "    return \" \".join([reverse_word_index.get(i, '?') for i in text])"
   ]
  },
  {
   "cell_type": "code",
   "execution_count": 62,
   "metadata": {},
   "outputs": [],
   "source": [
    "train_data = keras.preprocessing.sequence.pad_sequences(train_data, value=word_index[\"<PAD>\"], padding='post',\n",
    "                                                       maxlen=250)\n",
    "test_data = keras.preprocessing.sequence.pad_sequences(test_data, value=word_index[\"<PAD>\"], padding='post',\n",
    "                                                       maxlen=250)"
   ]
  },
  {
   "cell_type": "code",
   "execution_count": 63,
   "metadata": {},
   "outputs": [
    {
     "name": "stdout",
     "output_type": "stream",
     "text": [
      "Model: \"sequential_5\"\n",
      "_________________________________________________________________\n",
      "Layer (type)                 Output Shape              Param #   \n",
      "=================================================================\n",
      "embedding_5 (Embedding)      (None, None, 16)          160000    \n",
      "_________________________________________________________________\n",
      "global_average_pooling1d_5 ( (None, 16)                0         \n",
      "_________________________________________________________________\n",
      "dense_10 (Dense)             (None, 16)                272       \n",
      "_________________________________________________________________\n",
      "dense_11 (Dense)             (None, 1)                 17        \n",
      "=================================================================\n",
      "Total params: 160,289\n",
      "Trainable params: 160,289\n",
      "Non-trainable params: 0\n",
      "_________________________________________________________________\n"
     ]
    }
   ],
   "source": [
    "#model\n",
    "\n",
    "model = keras.Sequential()\n",
    "model.add(keras.layers.Embedding(10000, 16))\n",
    "model.add(keras.layers.GlobalAveragePooling1D())\n",
    "model.add(keras.layers.Dense(16, activation = 'relu'))\n",
    "model.add(keras.layers.Dense(1, activation = 'sigmoid'))\n",
    "\n",
    "model.summary()"
   ]
  },
  {
   "cell_type": "code",
   "execution_count": 69,
   "metadata": {},
   "outputs": [],
   "source": [
    "model.compile(optimizer='adam', loss = 'binary_crossentropy', metrics=['accuracy'])\n",
    "\n",
    "x_val = train_data[:10000]\n",
    "x_train = train_data[10000:]\n",
    "\n",
    "y_val = train_lables[:10000]\n",
    "y_train = train_lables[10000:]"
   ]
  },
  {
   "cell_type": "code",
   "execution_count": 70,
   "metadata": {},
   "outputs": [
    {
     "name": "stdout",
     "output_type": "stream",
     "text": [
      "Train on 15000 samples, validate on 10000 samples\n",
      "Epoch 1/100\n",
      "15000/15000 [==============================] - 1s 41us/sample - loss: 1.8000 - accuracy: 0.5217 - val_loss: 1.6811 - val_accuracy: 0.5449\n",
      "Epoch 2/100\n",
      "15000/15000 [==============================] - 0s 21us/sample - loss: 1.5426 - accuracy: 0.5641 - val_loss: 1.4827 - val_accuracy: 0.5772\n",
      "Epoch 3/100\n",
      "15000/15000 [==============================] - 0s 21us/sample - loss: 1.3487 - accuracy: 0.5964 - val_loss: 1.3259 - val_accuracy: 0.6072\n",
      "Epoch 4/100\n",
      "15000/15000 [==============================] - 0s 21us/sample - loss: 1.1921 - accuracy: 0.6292 - val_loss: 1.1942 - val_accuracy: 0.6309\n",
      "Epoch 5/100\n",
      "15000/15000 [==============================] - 0s 21us/sample - loss: 1.0637 - accuracy: 0.6570 - val_loss: 1.0847 - val_accuracy: 0.6506\n",
      "Epoch 6/100\n",
      "15000/15000 [==============================] - 0s 21us/sample - loss: 0.9509 - accuracy: 0.6791 - val_loss: 0.9900 - val_accuracy: 0.6637\n",
      "Epoch 7/100\n",
      "15000/15000 [==============================] - 0s 21us/sample - loss: 0.8543 - accuracy: 0.6979 - val_loss: 0.9014 - val_accuracy: 0.6779\n",
      "Epoch 8/100\n",
      "15000/15000 [==============================] - 0s 21us/sample - loss: 0.7726 - accuracy: 0.7146 - val_loss: 0.8268 - val_accuracy: 0.6885\n",
      "Epoch 9/100\n",
      "15000/15000 [==============================] - 0s 21us/sample - loss: 0.7036 - accuracy: 0.7309 - val_loss: 0.7637 - val_accuracy: 0.6995\n",
      "Epoch 10/100\n",
      "15000/15000 [==============================] - 0s 20us/sample - loss: 0.6496 - accuracy: 0.7422 - val_loss: 0.7138 - val_accuracy: 0.7068\n",
      "Epoch 11/100\n",
      "15000/15000 [==============================] - 0s 21us/sample - loss: 0.6088 - accuracy: 0.7512 - val_loss: 0.6768 - val_accuracy: 0.7124\n",
      "Epoch 12/100\n",
      "15000/15000 [==============================] - 0s 20us/sample - loss: 0.5790 - accuracy: 0.7591 - val_loss: 0.6486 - val_accuracy: 0.7197\n",
      "Epoch 13/100\n",
      "15000/15000 [==============================] - 0s 21us/sample - loss: 0.5557 - accuracy: 0.7657 - val_loss: 0.6271 - val_accuracy: 0.7281\n",
      "Epoch 14/100\n",
      "15000/15000 [==============================] - 0s 21us/sample - loss: 0.5368 - accuracy: 0.7714 - val_loss: 0.6103 - val_accuracy: 0.7327\n",
      "Epoch 15/100\n",
      "15000/15000 [==============================] - 0s 21us/sample - loss: 0.5204 - accuracy: 0.7775 - val_loss: 0.5958 - val_accuracy: 0.7382\n",
      "Epoch 16/100\n",
      "15000/15000 [==============================] - 0s 21us/sample - loss: 0.5062 - accuracy: 0.7815 - val_loss: 0.5835 - val_accuracy: 0.7435\n",
      "Epoch 17/100\n",
      "15000/15000 [==============================] - 0s 22us/sample - loss: 0.4932 - accuracy: 0.7858 - val_loss: 0.5729 - val_accuracy: 0.7492\n",
      "Epoch 18/100\n",
      "15000/15000 [==============================] - 0s 23us/sample - loss: 0.4814 - accuracy: 0.7895 - val_loss: 0.5635 - val_accuracy: 0.7530\n",
      "Epoch 19/100\n",
      "15000/15000 [==============================] - 0s 24us/sample - loss: 0.4701 - accuracy: 0.7944 - val_loss: 0.5551 - val_accuracy: 0.7555\n",
      "Epoch 20/100\n",
      "15000/15000 [==============================] - 0s 22us/sample - loss: 0.4595 - accuracy: 0.7981 - val_loss: 0.5472 - val_accuracy: 0.7605\n",
      "Epoch 21/100\n",
      "15000/15000 [==============================] - 0s 22us/sample - loss: 0.4494 - accuracy: 0.8021 - val_loss: 0.5401 - val_accuracy: 0.7636\n",
      "Epoch 22/100\n",
      "15000/15000 [==============================] - 0s 22us/sample - loss: 0.4399 - accuracy: 0.8057 - val_loss: 0.5334 - val_accuracy: 0.7671\n",
      "Epoch 23/100\n",
      "15000/15000 [==============================] - 0s 22us/sample - loss: 0.4306 - accuracy: 0.8081 - val_loss: 0.5267 - val_accuracy: 0.7718\n",
      "Epoch 24/100\n",
      "15000/15000 [==============================] - 0s 21us/sample - loss: 0.4218 - accuracy: 0.8129 - val_loss: 0.5211 - val_accuracy: 0.7750\n",
      "Epoch 25/100\n",
      "15000/15000 [==============================] - 0s 22us/sample - loss: 0.4132 - accuracy: 0.8146 - val_loss: 0.5150 - val_accuracy: 0.7768\n",
      "Epoch 26/100\n",
      "15000/15000 [==============================] - 0s 21us/sample - loss: 0.4048 - accuracy: 0.8173 - val_loss: 0.5096 - val_accuracy: 0.7814\n",
      "Epoch 27/100\n",
      "15000/15000 [==============================] - 0s 21us/sample - loss: 0.3967 - accuracy: 0.8216 - val_loss: 0.5052 - val_accuracy: 0.7842\n",
      "Epoch 28/100\n",
      "15000/15000 [==============================] - 0s 21us/sample - loss: 0.3891 - accuracy: 0.8242 - val_loss: 0.4995 - val_accuracy: 0.7867\n",
      "Epoch 29/100\n",
      "15000/15000 [==============================] - 0s 21us/sample - loss: 0.3812 - accuracy: 0.8281 - val_loss: 0.4951 - val_accuracy: 0.7889\n",
      "Epoch 30/100\n",
      "15000/15000 [==============================] - 0s 21us/sample - loss: 0.3739 - accuracy: 0.8309 - val_loss: 0.4904 - val_accuracy: 0.7910\n",
      "Epoch 31/100\n",
      "15000/15000 [==============================] - 0s 21us/sample - loss: 0.3667 - accuracy: 0.8329 - val_loss: 0.4862 - val_accuracy: 0.7923\n",
      "Epoch 32/100\n",
      "15000/15000 [==============================] - 0s 21us/sample - loss: 0.3598 - accuracy: 0.8357 - val_loss: 0.4820 - val_accuracy: 0.7948\n",
      "Epoch 33/100\n",
      "15000/15000 [==============================] - 0s 23us/sample - loss: 0.3530 - accuracy: 0.8379 - val_loss: 0.4780 - val_accuracy: 0.7966\n",
      "Epoch 34/100\n",
      "15000/15000 [==============================] - 0s 22us/sample - loss: 0.3463 - accuracy: 0.8402 - val_loss: 0.4745 - val_accuracy: 0.7993\n",
      "Epoch 35/100\n",
      "15000/15000 [==============================] - 0s 23us/sample - loss: 0.3399 - accuracy: 0.8434 - val_loss: 0.4709 - val_accuracy: 0.8011\n",
      "Epoch 36/100\n",
      "15000/15000 [==============================] - 0s 22us/sample - loss: 0.3335 - accuracy: 0.8446 - val_loss: 0.4679 - val_accuracy: 0.8039\n",
      "Epoch 37/100\n",
      "15000/15000 [==============================] - 0s 21us/sample - loss: 0.3275 - accuracy: 0.8490 - val_loss: 0.4645 - val_accuracy: 0.8051\n",
      "Epoch 38/100\n",
      "15000/15000 [==============================] - 0s 22us/sample - loss: 0.3216 - accuracy: 0.8508 - val_loss: 0.4616 - val_accuracy: 0.8075\n",
      "Epoch 39/100\n",
      "15000/15000 [==============================] - 0s 22us/sample - loss: 0.3158 - accuracy: 0.8543 - val_loss: 0.4589 - val_accuracy: 0.8091\n",
      "Epoch 40/100\n",
      "15000/15000 [==============================] - 0s 22us/sample - loss: 0.3098 - accuracy: 0.8573 - val_loss: 0.4560 - val_accuracy: 0.8106\n",
      "Epoch 41/100\n",
      "15000/15000 [==============================] - 0s 22us/sample - loss: 0.3047 - accuracy: 0.8586 - val_loss: 0.4533 - val_accuracy: 0.8111\n",
      "Epoch 42/100\n",
      "15000/15000 [==============================] - 0s 22us/sample - loss: 0.2991 - accuracy: 0.8614 - val_loss: 0.4509 - val_accuracy: 0.8118\n",
      "Epoch 43/100\n",
      "15000/15000 [==============================] - 0s 22us/sample - loss: 0.2933 - accuracy: 0.8638 - val_loss: 0.4489 - val_accuracy: 0.8141\n",
      "Epoch 44/100\n",
      "15000/15000 [==============================] - 0s 22us/sample - loss: 0.2881 - accuracy: 0.8675 - val_loss: 0.4479 - val_accuracy: 0.8163\n",
      "Epoch 45/100\n",
      "15000/15000 [==============================] - 0s 21us/sample - loss: 0.2827 - accuracy: 0.8686 - val_loss: 0.4455 - val_accuracy: 0.8165\n",
      "Epoch 46/100\n",
      "15000/15000 [==============================] - 0s 20us/sample - loss: 0.2776 - accuracy: 0.8722 - val_loss: 0.4432 - val_accuracy: 0.8177\n",
      "Epoch 47/100\n",
      "15000/15000 [==============================] - 0s 22us/sample - loss: 0.2725 - accuracy: 0.8759 - val_loss: 0.4425 - val_accuracy: 0.8186\n",
      "Epoch 48/100\n",
      "15000/15000 [==============================] - 0s 23us/sample - loss: 0.2676 - accuracy: 0.8777 - val_loss: 0.4404 - val_accuracy: 0.8207\n",
      "Epoch 49/100\n",
      "15000/15000 [==============================] - 0s 21us/sample - loss: 0.2631 - accuracy: 0.8815 - val_loss: 0.4396 - val_accuracy: 0.8207\n",
      "Epoch 50/100\n",
      "15000/15000 [==============================] - 0s 21us/sample - loss: 0.2580 - accuracy: 0.8852 - val_loss: 0.4389 - val_accuracy: 0.8229\n",
      "Epoch 51/100\n",
      "15000/15000 [==============================] - 0s 22us/sample - loss: 0.2532 - accuracy: 0.8875 - val_loss: 0.4378 - val_accuracy: 0.8235\n",
      "Epoch 52/100\n",
      "15000/15000 [==============================] - 0s 21us/sample - loss: 0.2486 - accuracy: 0.8908 - val_loss: 0.4372 - val_accuracy: 0.8246\n",
      "Epoch 53/100\n",
      "15000/15000 [==============================] - 0s 21us/sample - loss: 0.2439 - accuracy: 0.8962 - val_loss: 0.4382 - val_accuracy: 0.8256\n",
      "Epoch 54/100\n",
      "15000/15000 [==============================] - 0s 21us/sample - loss: 0.2395 - accuracy: 0.8960 - val_loss: 0.4396 - val_accuracy: 0.8270\n"
     ]
    },
    {
     "name": "stdout",
     "output_type": "stream",
     "text": [
      "Epoch 55/100\n",
      "15000/15000 [==============================] - 0s 21us/sample - loss: 0.2342 - accuracy: 0.9009 - val_loss: 0.4381 - val_accuracy: 0.8276\n",
      "Epoch 56/100\n",
      "15000/15000 [==============================] - 0s 21us/sample - loss: 0.2296 - accuracy: 0.9051 - val_loss: 0.4390 - val_accuracy: 0.8293\n",
      "Epoch 57/100\n",
      "15000/15000 [==============================] - 0s 20us/sample - loss: 0.2248 - accuracy: 0.9061 - val_loss: 0.4383 - val_accuracy: 0.8303\n",
      "Epoch 58/100\n",
      "15000/15000 [==============================] - 0s 20us/sample - loss: 0.2202 - accuracy: 0.9105 - val_loss: 0.4388 - val_accuracy: 0.8292\n",
      "Epoch 59/100\n",
      "15000/15000 [==============================] - 0s 21us/sample - loss: 0.2156 - accuracy: 0.9124 - val_loss: 0.4402 - val_accuracy: 0.8312\n",
      "Epoch 60/100\n",
      "15000/15000 [==============================] - 0s 21us/sample - loss: 0.2110 - accuracy: 0.9160 - val_loss: 0.4417 - val_accuracy: 0.8315\n",
      "Epoch 61/100\n",
      "15000/15000 [==============================] - 0s 21us/sample - loss: 0.2069 - accuracy: 0.9187 - val_loss: 0.4421 - val_accuracy: 0.8325\n",
      "Epoch 62/100\n",
      "15000/15000 [==============================] - 0s 21us/sample - loss: 0.2022 - accuracy: 0.9214 - val_loss: 0.4439 - val_accuracy: 0.8325\n",
      "Epoch 63/100\n",
      "15000/15000 [==============================] - 0s 22us/sample - loss: 0.1971 - accuracy: 0.9245 - val_loss: 0.4480 - val_accuracy: 0.8345\n",
      "Epoch 64/100\n",
      "15000/15000 [==============================] - 0s 21us/sample - loss: 0.1926 - accuracy: 0.9279 - val_loss: 0.4483 - val_accuracy: 0.8334\n",
      "Epoch 65/100\n",
      "15000/15000 [==============================] - 0s 21us/sample - loss: 0.1879 - accuracy: 0.9320 - val_loss: 0.4514 - val_accuracy: 0.8332\n",
      "Epoch 66/100\n",
      "15000/15000 [==============================] - 0s 21us/sample - loss: 0.1833 - accuracy: 0.9349 - val_loss: 0.4547 - val_accuracy: 0.8344\n",
      "Epoch 67/100\n",
      "15000/15000 [==============================] - 0s 21us/sample - loss: 0.1789 - accuracy: 0.9379 - val_loss: 0.4601 - val_accuracy: 0.8354\n",
      "Epoch 68/100\n",
      "15000/15000 [==============================] - 0s 21us/sample - loss: 0.1747 - accuracy: 0.9405 - val_loss: 0.4593 - val_accuracy: 0.8345\n",
      "Epoch 69/100\n",
      "15000/15000 [==============================] - 0s 21us/sample - loss: 0.1705 - accuracy: 0.9434 - val_loss: 0.4642 - val_accuracy: 0.8358\n",
      "Epoch 70/100\n",
      "15000/15000 [==============================] - 0s 22us/sample - loss: 0.1664 - accuracy: 0.9455 - val_loss: 0.4647 - val_accuracy: 0.8346\n",
      "Epoch 71/100\n",
      "15000/15000 [==============================] - 0s 22us/sample - loss: 0.1618 - accuracy: 0.9479 - val_loss: 0.4670 - val_accuracy: 0.8351\n",
      "Epoch 72/100\n",
      "15000/15000 [==============================] - 0s 21us/sample - loss: 0.1581 - accuracy: 0.9496 - val_loss: 0.4695 - val_accuracy: 0.8349\n",
      "Epoch 73/100\n",
      "15000/15000 [==============================] - 0s 23us/sample - loss: 0.1543 - accuracy: 0.9521 - val_loss: 0.4720 - val_accuracy: 0.8356\n",
      "Epoch 74/100\n",
      "15000/15000 [==============================] - 0s 22us/sample - loss: 0.1498 - accuracy: 0.9542 - val_loss: 0.4745 - val_accuracy: 0.8346\n",
      "Epoch 75/100\n",
      "15000/15000 [==============================] - 0s 22us/sample - loss: 0.1460 - accuracy: 0.9559 - val_loss: 0.4792 - val_accuracy: 0.8362\n",
      "Epoch 76/100\n",
      "15000/15000 [==============================] - 0s 21us/sample - loss: 0.1430 - accuracy: 0.9578 - val_loss: 0.4829 - val_accuracy: 0.8364\n",
      "Epoch 77/100\n",
      "15000/15000 [==============================] - 0s 21us/sample - loss: 0.1398 - accuracy: 0.9580 - val_loss: 0.4843 - val_accuracy: 0.8365\n",
      "Epoch 78/100\n",
      "15000/15000 [==============================] - 0s 22us/sample - loss: 0.1355 - accuracy: 0.9603 - val_loss: 0.4842 - val_accuracy: 0.8356\n",
      "Epoch 79/100\n",
      "15000/15000 [==============================] - 0s 21us/sample - loss: 0.1322 - accuracy: 0.9619 - val_loss: 0.4897 - val_accuracy: 0.8368\n",
      "Epoch 80/100\n",
      "15000/15000 [==============================] - 0s 21us/sample - loss: 0.1291 - accuracy: 0.9638 - val_loss: 0.4935 - val_accuracy: 0.8364\n",
      "Epoch 81/100\n",
      "15000/15000 [==============================] - 0s 22us/sample - loss: 0.1262 - accuracy: 0.9645 - val_loss: 0.4947 - val_accuracy: 0.8371\n",
      "Epoch 82/100\n",
      "15000/15000 [==============================] - 0s 21us/sample - loss: 0.1235 - accuracy: 0.9659 - val_loss: 0.4950 - val_accuracy: 0.8370\n",
      "Epoch 83/100\n",
      "15000/15000 [==============================] - 0s 21us/sample - loss: 0.1201 - accuracy: 0.9674 - val_loss: 0.4963 - val_accuracy: 0.8370\n",
      "Epoch 84/100\n",
      "15000/15000 [==============================] - 0s 20us/sample - loss: 0.1177 - accuracy: 0.9681 - val_loss: 0.4980 - val_accuracy: 0.8361\n",
      "Epoch 85/100\n",
      "15000/15000 [==============================] - 0s 21us/sample - loss: 0.1141 - accuracy: 0.9698 - val_loss: 0.5007 - val_accuracy: 0.8368\n",
      "Epoch 86/100\n",
      "15000/15000 [==============================] - 0s 21us/sample - loss: 0.1115 - accuracy: 0.9709 - val_loss: 0.5025 - val_accuracy: 0.8364\n",
      "Epoch 87/100\n",
      "15000/15000 [==============================] - 0s 20us/sample - loss: 0.1088 - accuracy: 0.9718 - val_loss: 0.5038 - val_accuracy: 0.8364\n",
      "Epoch 88/100\n",
      "15000/15000 [==============================] - 0s 20us/sample - loss: 0.1061 - accuracy: 0.9727 - val_loss: 0.5070 - val_accuracy: 0.8363\n",
      "Epoch 89/100\n",
      "15000/15000 [==============================] - 0s 21us/sample - loss: 0.1035 - accuracy: 0.9738 - val_loss: 0.5086 - val_accuracy: 0.8371\n",
      "Epoch 90/100\n",
      "15000/15000 [==============================] - 0s 22us/sample - loss: 0.1011 - accuracy: 0.9739 - val_loss: 0.5120 - val_accuracy: 0.8365\n",
      "Epoch 91/100\n",
      "15000/15000 [==============================] - 0s 21us/sample - loss: 0.0985 - accuracy: 0.9753 - val_loss: 0.5157 - val_accuracy: 0.8369\n",
      "Epoch 92/100\n",
      "15000/15000 [==============================] - 0s 21us/sample - loss: 0.0969 - accuracy: 0.9758 - val_loss: 0.5196 - val_accuracy: 0.8364\n",
      "Epoch 93/100\n",
      "15000/15000 [==============================] - 0s 22us/sample - loss: 0.0946 - accuracy: 0.9762 - val_loss: 0.5201 - val_accuracy: 0.8371\n",
      "Epoch 94/100\n",
      "15000/15000 [==============================] - 0s 21us/sample - loss: 0.0921 - accuracy: 0.9779 - val_loss: 0.5209 - val_accuracy: 0.8375\n",
      "Epoch 95/100\n",
      "15000/15000 [==============================] - 0s 22us/sample - loss: 0.0898 - accuracy: 0.9792 - val_loss: 0.5228 - val_accuracy: 0.8378\n",
      "Epoch 96/100\n",
      "15000/15000 [==============================] - 0s 21us/sample - loss: 0.0879 - accuracy: 0.9796 - val_loss: 0.5283 - val_accuracy: 0.8380\n",
      "Epoch 97/100\n",
      "15000/15000 [==============================] - 0s 22us/sample - loss: 0.0864 - accuracy: 0.9803 - val_loss: 0.5270 - val_accuracy: 0.8378\n",
      "Epoch 98/100\n",
      "15000/15000 [==============================] - 0s 22us/sample - loss: 0.0840 - accuracy: 0.9815 - val_loss: 0.5284 - val_accuracy: 0.8370\n",
      "Epoch 99/100\n",
      "15000/15000 [==============================] - 0s 22us/sample - loss: 0.0828 - accuracy: 0.9813 - val_loss: 0.5310 - val_accuracy: 0.8380\n",
      "Epoch 100/100\n",
      "15000/15000 [==============================] - 0s 21us/sample - loss: 0.0805 - accuracy: 0.9824 - val_loss: 0.5337 - val_accuracy: 0.8381\n"
     ]
    }
   ],
   "source": [
    "fitModel = model.fit(x_train, y_train, epochs=100, batch_size= 1024, validation_data=(x_val, y_val), verbose= 1)"
   ]
  },
  {
   "cell_type": "code",
   "execution_count": 71,
   "metadata": {},
   "outputs": [
    {
     "name": "stdout",
     "output_type": "stream",
     "text": [
      "25000/25000 [==============================] - 1s 22us/sample - loss: 0.5375 - accuracy: 0.8296\n"
     ]
    }
   ],
   "source": [
    "results = model.evaluate(test_data, test_lables)"
   ]
  },
  {
   "cell_type": "code",
   "execution_count": 72,
   "metadata": {},
   "outputs": [
    {
     "name": "stdout",
     "output_type": "stream",
     "text": [
      "Review\n",
      "<START> please give this one a miss br br <UNK> <UNK> and the rest of the cast rendered terrible performances the show is flat flat flat br br i don't know how michael madison could have allowed this one on his plate he almost seemed to know this wasn't going to work out and his performance was quite <UNK> so all you madison fans give this a miss <PAD> <PAD> <PAD> <PAD> <PAD> <PAD> <PAD> <PAD> <PAD> <PAD> <PAD> <PAD> <PAD> <PAD> <PAD> <PAD> <PAD> <PAD> <PAD> <PAD> <PAD> <PAD> <PAD> <PAD> <PAD> <PAD> <PAD> <PAD> <PAD> <PAD> <PAD> <PAD> <PAD> <PAD> <PAD> <PAD> <PAD> <PAD> <PAD> <PAD> <PAD> <PAD> <PAD> <PAD> <PAD> <PAD> <PAD> <PAD> <PAD> <PAD> <PAD> <PAD> <PAD> <PAD> <PAD> <PAD> <PAD> <PAD> <PAD> <PAD> <PAD> <PAD> <PAD> <PAD> <PAD> <PAD> <PAD> <PAD> <PAD> <PAD> <PAD> <PAD> <PAD> <PAD> <PAD> <PAD> <PAD> <PAD> <PAD> <PAD> <PAD> <PAD> <PAD> <PAD> <PAD> <PAD> <PAD> <PAD> <PAD> <PAD> <PAD> <PAD> <PAD> <PAD> <PAD> <PAD> <PAD> <PAD> <PAD> <PAD> <PAD> <PAD> <PAD> <PAD> <PAD> <PAD> <PAD> <PAD> <PAD> <PAD> <PAD> <PAD> <PAD> <PAD> <PAD> <PAD> <PAD> <PAD> <PAD> <PAD> <PAD> <PAD> <PAD> <PAD> <PAD> <PAD> <PAD> <PAD> <PAD> <PAD> <PAD> <PAD> <PAD> <PAD> <PAD> <PAD> <PAD> <PAD> <PAD> <PAD> <PAD> <PAD> <PAD> <PAD> <PAD> <PAD> <PAD> <PAD> <PAD> <PAD> <PAD> <PAD> <PAD> <PAD> <PAD> <PAD> <PAD> <PAD> <PAD> <PAD> <PAD> <PAD> <PAD> <PAD> <PAD> <PAD> <PAD> <PAD> <PAD> <PAD> <PAD> <PAD> <PAD> <PAD> <PAD> <PAD> <PAD> <PAD> <PAD> <PAD> <PAD> <PAD>\n",
      "Prediction[7.496084e-24]\n",
      "Actual0\n",
      "[0.5375337213945389, 0.8296]\n"
     ]
    }
   ],
   "source": [
    "test_review = test_data[0]\n",
    "predict = model.predict([test_review])\n",
    "print('Review')\n",
    "print(decode_review(test_review))\n",
    "print('Prediction' + str(predict[0]))\n",
    "print('Actual' + str(test_lables[0]))\n",
    "print(results)"
   ]
  },
  {
   "cell_type": "code",
   "execution_count": null,
   "metadata": {},
   "outputs": [],
   "source": []
  }
 ],
 "metadata": {
  "kernelspec": {
   "display_name": "Python 3",
   "language": "python",
   "name": "python3"
  },
  "language_info": {
   "codemirror_mode": {
    "name": "ipython",
    "version": 3
   },
   "file_extension": ".py",
   "mimetype": "text/x-python",
   "name": "python",
   "nbconvert_exporter": "python",
   "pygments_lexer": "ipython3",
   "version": "3.7.4"
  }
 },
 "nbformat": 4,
 "nbformat_minor": 2
}
