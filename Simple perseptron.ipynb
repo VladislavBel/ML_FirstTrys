{
  "nbformat": 4,
  "nbformat_minor": 0,
  "metadata": {
    "colab": {
      "name": "Untitled0.ipynb",
      "version": "0.3.2",
      "provenance": [],
      "include_colab_link": true
    },
    "kernelspec": {
      "name": "python3",
      "display_name": "Python 3"
    }
  },
  "cells": [
    {
      "cell_type": "markdown",
      "metadata": {
        "id": "view-in-github",
        "colab_type": "text"
      },
      "source": [
        "<a href=\"https://colab.research.google.com/github/VladislavBel/Track_NeuralNetworks/blob/master/Simple%20perseptron.ipynb\" target=\"_parent\"><img src=\"https://colab.research.google.com/assets/colab-badge.svg\" alt=\"Open In Colab\"/></a>"
      ]
    },
    {
      "cell_type": "code",
      "metadata": {
        "id": "eW0gVLjuqeqj",
        "colab_type": "code",
        "colab": {}
      },
      "source": [
        "import random"
      ],
      "execution_count": 0,
      "outputs": []
    },
    {
      "cell_type": "code",
      "metadata": {
        "id": "9pNcvqdHqh6e",
        "colab_type": "code",
        "colab": {}
      },
      "source": [
        "num0 = list('111101101101111')\n",
        "num1 = list('001001001001001')\n",
        "num2 = list('111001111100111')\n",
        "num3 = list('111001011001111')\n",
        "num4 = list('101101111001001')\n",
        "num5 = list('111100111001111')\n",
        "num6 = list('111100111101111')\n",
        "num7 = list('111001001001001')\n",
        "num8 = list('111101111101111')\n",
        "num9 = list('111101111001111')"
      ],
      "execution_count": 0,
      "outputs": []
    },
    {
      "cell_type": "code",
      "metadata": {
        "id": "BOJDXi2r0DNR",
        "colab_type": "code",
        "colab": {}
      },
      "source": [
        "nums = [num0, num1, num2, num3, num4, num5, num6, num7, num8, num9]"
      ],
      "execution_count": 0,
      "outputs": []
    },
    {
      "cell_type": "code",
      "metadata": {
        "id": "xlVta6q00amI",
        "colab_type": "code",
        "colab": {}
      },
      "source": [
        "num51 = list('111100111000111')\n",
        "num52 = list('111100010001111')\n",
        "num53 = list('111100011001111')\n",
        "num54 = list('110100111001111')\n",
        "num55 = list('110100111001011')\n",
        "num56 = list('111100101001111')"
      ],
      "execution_count": 0,
      "outputs": []
    },
    {
      "cell_type": "code",
      "metadata": {
        "id": "Qu3TIP4q0hS5",
        "colab_type": "code",
        "colab": {}
      },
      "source": [
        "weights = []\n",
        "for i in range(15):\n",
        "    weights.append(0)\n",
        " "
      ],
      "execution_count": 0,
      "outputs": []
    },
    {
      "cell_type": "code",
      "metadata": {
        "id": "OseviCIv0mHA",
        "colab_type": "code",
        "colab": {}
      },
      "source": [
        "bias = 7"
      ],
      "execution_count": 0,
      "outputs": []
    },
    {
      "cell_type": "code",
      "metadata": {
        "id": "TMo6sk1N0n9A",
        "colab_type": "code",
        "colab": {}
      },
      "source": [
        "def proceed(number):\n",
        "    net = 0\n",
        "    for i in range(15):\n",
        "        net += int(number[i])*weights[i]\n",
        " \n",
        "    return net >= bias"
      ],
      "execution_count": 0,
      "outputs": []
    },
    {
      "cell_type": "code",
      "metadata": {
        "id": "izR6lCK90xIQ",
        "colab_type": "code",
        "colab": {}
      },
      "source": [
        "def decrease(number):\n",
        "    for i in range(15):\n",
        "        if int(number[i]) == 1:\n",
        "            weights[i] -= 1"
      ],
      "execution_count": 0,
      "outputs": []
    },
    {
      "cell_type": "code",
      "metadata": {
        "id": "2eBhaise003Y",
        "colab_type": "code",
        "colab": {}
      },
      "source": [
        "def increase(number):\n",
        "    for i in range(15):\n",
        "        if int(number[i]) == 1:\n",
        "            weights[i] += 1"
      ],
      "execution_count": 0,
      "outputs": []
    },
    {
      "cell_type": "code",
      "metadata": {
        "id": "k72sUo8Y06dw",
        "colab_type": "code",
        "colab": {}
      },
      "source": [
        "for i in range(10000):\n",
        "    option = random.randint(0, 9)\n",
        " \n",
        "    if option != 5:\n",
        "        if proceed(nums[option]):\n",
        "            decrease(nums[option])\n",
        "    else:\n",
        "        if not proceed(num5):\n",
        "            increase(num5)"
      ],
      "execution_count": 0,
      "outputs": []
    },
    {
      "cell_type": "code",
      "metadata": {
        "id": "-BHsVL-11HVW",
        "colab_type": "code",
        "colab": {
          "base_uri": "https://localhost:8080/",
          "height": 34
        },
        "outputId": "a05493d6-e67c-46af-91ab-7785b9f599ab"
      },
      "source": [
        "print(weights)"
      ],
      "execution_count": 27,
      "outputs": [
        {
          "output_type": "stream",
          "text": [
            "[0, 1, 0, 2, 0, -6, 1, 1, 0, -3, 0, 1, 1, 1, 0]\n"
          ],
          "name": "stdout"
        }
      ]
    },
    {
      "cell_type": "code",
      "metadata": {
        "id": "lQF85tMt1K7x",
        "colab_type": "code",
        "colab": {
          "base_uri": "https://localhost:8080/",
          "height": 187
        },
        "outputId": "3a3cfa72-121f-4891-f94f-09e59985bd22"
      },
      "source": [
        "print(\"0 is 5? \", proceed(num0))\n",
        "print(\"1 is 5? \", proceed(num1))\n",
        "print(\"2 is 5? \", proceed(num2))\n",
        "print(\"3 is 5? \", proceed(num3))\n",
        "print(\"4 is 5? \", proceed(num4))\n",
        "print(\"6 is 5? \", proceed(num6))\n",
        "print(\"7 is 5? \", proceed(num7))\n",
        "print(\"8 is 5? \", proceed(num8))\n",
        "print(\"9 is 5? \", proceed(num9), '\\n')"
      ],
      "execution_count": 28,
      "outputs": [
        {
          "output_type": "stream",
          "text": [
            "0 is 5?  False\n",
            "1 is 5?  False\n",
            "2 is 5?  False\n",
            "3 is 5?  False\n",
            "4 is 5?  False\n",
            "6 is 5?  False\n",
            "7 is 5?  False\n",
            "8 is 5?  False\n",
            "9 is 5?  False \n",
            "\n"
          ],
          "name": "stdout"
        }
      ]
    },
    {
      "cell_type": "code",
      "metadata": {
        "id": "1R37Bzbv1Of3",
        "colab_type": "code",
        "colab": {
          "base_uri": "https://localhost:8080/",
          "height": 136
        },
        "outputId": "b9ccbd68-6821-4b5e-c95d-ead9f67d86e5"
      },
      "source": [
        "print(\"recognize 5? \", proceed(num5))\n",
        "print(\"recognize 5 - 1? \", proceed(num51))\n",
        "print(\"recognize 5 - 2? \", proceed(num52))\n",
        "print(\"recognize 5 - 3? \", proceed(num53))\n",
        "print(\"recognize 5 - 4? \", proceed(num54))\n",
        "print(\"recognize 5 - 5? \", proceed(num55))\n",
        "print(\"recognize 5 - 6? \", proceed(num56))"
      ],
      "execution_count": 29,
      "outputs": [
        {
          "output_type": "stream",
          "text": [
            "recognize 5?  True\n",
            "recognize 5 - 1?  True\n",
            "recognize 5 - 2?  True\n",
            "recognize 5 - 3?  True\n",
            "recognize 5 - 4?  True\n",
            "recognize 5 - 5?  True\n",
            "recognize 5 - 6?  True\n"
          ],
          "name": "stdout"
        }
      ]
    },
    {
      "cell_type": "code",
      "metadata": {
        "id": "cXb4hWbC1lPv",
        "colab_type": "code",
        "colab": {}
      },
      "source": [
        ""
      ],
      "execution_count": 0,
      "outputs": []
    }
  ]
}